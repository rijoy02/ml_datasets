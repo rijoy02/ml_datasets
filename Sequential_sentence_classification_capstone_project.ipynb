{
  "nbformat": 4,
  "nbformat_minor": 0,
  "metadata": {
    "colab": {
      "provenance": [],
      "authorship_tag": "ABX9TyNaZHoYRIr1DhUdYJmqSqc6",
      "include_colab_link": true
    },
    "kernelspec": {
      "name": "python3",
      "display_name": "Python 3"
    },
    "language_info": {
      "name": "python"
    },
    "gpuClass": "standard"
  },
  "cells": [
    {
      "cell_type": "markdown",
      "metadata": {
        "id": "view-in-github",
        "colab_type": "text"
      },
      "source": [
        "<a href=\"https://colab.research.google.com/github/rijoy02/ml_datasets/blob/main/Sequential_sentence_classification_capstone_project.ipynb\" target=\"_parent\"><img src=\"https://colab.research.google.com/assets/colab-badge.svg\" alt=\"Open In Colab\"/></a>"
      ]
    },
    {
      "cell_type": "code",
      "source": [
        "import pandas as pd\n",
        "import numpy as np\n",
        "import tensorflow as tf\n",
        "import matplotlib.pyplot as plt\n",
        "print(tf.__version__)"
      ],
      "metadata": {
        "colab": {
          "base_uri": "https://localhost:8080/"
        },
        "id": "x31blT6ib73h",
        "outputId": "b0f4a751-bd6a-4a50-8666-84104aae0329"
      },
      "execution_count": 1,
      "outputs": [
        {
          "output_type": "stream",
          "name": "stdout",
          "text": [
            "2.11.0\n"
          ]
        }
      ]
    },
    {
      "cell_type": "code",
      "source": [
        "!nvidia-smi -L"
      ],
      "metadata": {
        "colab": {
          "base_uri": "https://localhost:8080/"
        },
        "id": "ek5Ac-XEarcN",
        "outputId": "e29c3ba7-369d-483e-d221-55a6aee052f9"
      },
      "execution_count": 2,
      "outputs": [
        {
          "output_type": "stream",
          "name": "stdout",
          "text": [
            "NVIDIA-SMI has failed because it couldn't communicate with the NVIDIA driver. Make sure that the latest NVIDIA driver is installed and running.\n",
            "\n"
          ]
        }
      ]
    },
    {
      "cell_type": "markdown",
      "source": [
        "### Get the raw data\n",
        "https://github.com/Franck-Dernoncourt/pubmed-rct"
      ],
      "metadata": {
        "id": "AcsUDvtacZyx"
      }
    },
    {
      "cell_type": "code",
      "source": [
        "raw_data_git_path = \"https://github.com/Franck-Dernoncourt/pubmed-rct\""
      ],
      "metadata": {
        "id": "M05CrMrRcjaT"
      },
      "execution_count": 3,
      "outputs": []
    },
    {
      "cell_type": "code",
      "source": [
        "!git clone {raw_data_git_path}"
      ],
      "metadata": {
        "colab": {
          "base_uri": "https://localhost:8080/"
        },
        "id": "OIMBNnh9auDp",
        "outputId": "fea8ee49-94fb-4974-eff5-daee74f61a0a"
      },
      "execution_count": 4,
      "outputs": [
        {
          "output_type": "stream",
          "name": "stdout",
          "text": [
            "Cloning into 'pubmed-rct'...\n",
            "remote: Enumerating objects: 33, done.\u001b[K\n",
            "remote: Counting objects: 100% (8/8), done.\u001b[K\n",
            "remote: Compressing objects: 100% (3/3), done.\u001b[K\n",
            "remote: Total 33 (delta 5), reused 5 (delta 5), pack-reused 25\u001b[K\n",
            "Unpacking objects: 100% (33/33), 177.08 MiB | 12.34 MiB/s, done.\n"
          ]
        }
      ]
    },
    {
      "cell_type": "code",
      "source": [
        "!ls /content/pubmed-rct/PubMed_20k_RCT_numbers_replaced_with_at_sign"
      ],
      "metadata": {
        "colab": {
          "base_uri": "https://localhost:8080/"
        },
        "id": "Gb-u1j83bqIw",
        "outputId": "71ca3da1-cdce-4b96-df45-51cdf00e86c5"
      },
      "execution_count": 5,
      "outputs": [
        {
          "output_type": "stream",
          "name": "stdout",
          "text": [
            "dev.txt  test.txt  train.txt\n"
          ]
        }
      ]
    },
    {
      "cell_type": "code",
      "source": [
        "!cat /content/pubmed-rct/PubMed_20k_RCT_numbers_replaced_with_at_sign/train.txt|head -10"
      ],
      "metadata": {
        "colab": {
          "base_uri": "https://localhost:8080/"
        },
        "id": "c8LWGPMDc5q1",
        "outputId": "ce818934-8e79-47d0-c001-3d02b84371c4"
      },
      "execution_count": 6,
      "outputs": [
        {
          "output_type": "stream",
          "name": "stdout",
          "text": [
            "###24293578\n",
            "OBJECTIVE\tTo investigate the efficacy of @ weeks of daily low-dose oral prednisolone in improving pain , mobility , and systemic low-grade inflammation in the short term and whether the effect would be sustained at @ weeks in older adults with moderate to severe knee osteoarthritis ( OA ) .\n",
            "METHODS\tA total of @ patients with primary knee OA were randomized @:@ ; @ received @ mg/day of prednisolone and @ received placebo for @ weeks .\n",
            "METHODS\tOutcome measures included pain reduction and improvement in function scores and systemic inflammation markers .\n",
            "METHODS\tPain was assessed using the visual analog pain scale ( @-@ mm ) .\n",
            "METHODS\tSecondary outcome measures included the Western Ontario and McMaster Universities Osteoarthritis Index scores , patient global assessment ( PGA ) of the severity of knee OA , and @-min walk distance ( @MWD ) .\n",
            "METHODS\tSerum levels of interleukin @ ( IL-@ ) , IL-@ , tumor necrosis factor ( TNF ) - , and high-sensitivity C-reactive protein ( hsCRP ) were measured .\n",
            "RESULTS\tThere was a clinically relevant reduction in the intervention group compared to the placebo group for knee pain , physical function , PGA , and @MWD at @ weeks .\n",
            "RESULTS\tThe mean difference between treatment arms ( @ % CI ) was @ ( @-@ @ ) , p < @ ; @ ( @-@ @ ) , p < @ ; @ ( @-@ @ ) , p < @ ; and @ ( @-@ @ ) , p < @ , respectively .\n",
            "RESULTS\tFurther , there was a clinically relevant reduction in the serum levels of IL-@ , IL-@ , TNF - , and hsCRP at @ weeks in the intervention group when compared to the placebo group .\n"
          ]
        }
      ]
    },
    {
      "cell_type": "code",
      "source": [
        "from pathlib import Path\n",
        "list(Path(\"/content/pubmed-rct/PubMed_20k_RCT_numbers_replaced_with_at_sign\").rglob('*'))"
      ],
      "metadata": {
        "colab": {
          "base_uri": "https://localhost:8080/"
        },
        "id": "esZR_BZ4dG_j",
        "outputId": "743d30cc-8e13-46a1-f412-12ec1e3d9ab6"
      },
      "execution_count": 7,
      "outputs": [
        {
          "output_type": "execute_result",
          "data": {
            "text/plain": [
              "[PosixPath('/content/pubmed-rct/PubMed_20k_RCT_numbers_replaced_with_at_sign/dev.txt'),\n",
              " PosixPath('/content/pubmed-rct/PubMed_20k_RCT_numbers_replaced_with_at_sign/train.txt'),\n",
              " PosixPath('/content/pubmed-rct/PubMed_20k_RCT_numbers_replaced_with_at_sign/test.txt')]"
            ]
          },
          "metadata": {},
          "execution_count": 7
        }
      ]
    },
    {
      "cell_type": "markdown",
      "source": [
        "### Let's do some automation in getting the dataset "
      ],
      "metadata": {
        "id": "vDPJTY5wfSYI"
      }
    },
    {
      "cell_type": "code",
      "source": [
        "# define the variables\n",
        "folder_path = \"/content/pubmed-rct/PubMed_20k_RCT_numbers_replaced_with_at_sign\"\n"
      ],
      "metadata": {
        "id": "IRKRcUHjdvbS"
      },
      "execution_count": 8,
      "outputs": []
    },
    {
      "cell_type": "code",
      "source": [
        "list(Path(folder_path).rglob(\"*dev*\"))"
      ],
      "metadata": {
        "colab": {
          "base_uri": "https://localhost:8080/"
        },
        "id": "0EjMdzuBm41U",
        "outputId": "8d7f8a08-792b-4dcb-ec65-e7ae868e2f10"
      },
      "execution_count": 9,
      "outputs": [
        {
          "output_type": "execute_result",
          "data": {
            "text/plain": [
              "[PosixPath('/content/pubmed-rct/PubMed_20k_RCT_numbers_replaced_with_at_sign/dev.txt')]"
            ]
          },
          "metadata": {},
          "execution_count": 9
        }
      ]
    },
    {
      "cell_type": "code",
      "source": [
        "# find the train, dev and test dataset files\n",
        "from pathlib import Path\n",
        "train_file = list(Path(folder_path).rglob(\"*train*\"))[0]\n",
        "dev_file = list(Path(folder_path).rglob(\"*dev*\"))[0]\n",
        "test_file = list(Path(folder_path).rglob(\"*test*\"))[0]"
      ],
      "metadata": {
        "id": "M8kEzpeuflHE"
      },
      "execution_count": 10,
      "outputs": []
    },
    {
      "cell_type": "code",
      "source": [
        "!head {train_file}"
      ],
      "metadata": {
        "colab": {
          "base_uri": "https://localhost:8080/"
        },
        "id": "VTDRaIadf0to",
        "outputId": "e15957d6-6f6d-4908-c4ec-a0cd28f36049"
      },
      "execution_count": 11,
      "outputs": [
        {
          "output_type": "stream",
          "name": "stdout",
          "text": [
            "###24293578\n",
            "OBJECTIVE\tTo investigate the efficacy of @ weeks of daily low-dose oral prednisolone in improving pain , mobility , and systemic low-grade inflammation in the short term and whether the effect would be sustained at @ weeks in older adults with moderate to severe knee osteoarthritis ( OA ) .\n",
            "METHODS\tA total of @ patients with primary knee OA were randomized @:@ ; @ received @ mg/day of prednisolone and @ received placebo for @ weeks .\n",
            "METHODS\tOutcome measures included pain reduction and improvement in function scores and systemic inflammation markers .\n",
            "METHODS\tPain was assessed using the visual analog pain scale ( @-@ mm ) .\n",
            "METHODS\tSecondary outcome measures included the Western Ontario and McMaster Universities Osteoarthritis Index scores , patient global assessment ( PGA ) of the severity of knee OA , and @-min walk distance ( @MWD ) .\n",
            "METHODS\tSerum levels of interleukin @ ( IL-@ ) , IL-@ , tumor necrosis factor ( TNF ) - , and high-sensitivity C-reactive protein ( hsCRP ) were measured .\n",
            "RESULTS\tThere was a clinically relevant reduction in the intervention group compared to the placebo group for knee pain , physical function , PGA , and @MWD at @ weeks .\n",
            "RESULTS\tThe mean difference between treatment arms ( @ % CI ) was @ ( @-@ @ ) , p < @ ; @ ( @-@ @ ) , p < @ ; @ ( @-@ @ ) , p < @ ; and @ ( @-@ @ ) , p < @ , respectively .\n",
            "RESULTS\tFurther , there was a clinically relevant reduction in the serum levels of IL-@ , IL-@ , TNF - , and hsCRP at @ weeks in the intervention group when compared to the placebo group .\n"
          ]
        }
      ]
    },
    {
      "cell_type": "code",
      "source": [
        "f = open(train_file, 'r')\n",
        "train_list = f.readlines()"
      ],
      "metadata": {
        "id": "5opuKcUHgyLK"
      },
      "execution_count": 12,
      "outputs": []
    },
    {
      "cell_type": "code",
      "source": [
        "len(train_list)"
      ],
      "metadata": {
        "colab": {
          "base_uri": "https://localhost:8080/"
        },
        "id": "C-H1Cv9OhFLw",
        "outputId": "6ef68f02-2834-4e01-e741-75f13ed1935f"
      },
      "execution_count": 13,
      "outputs": [
        {
          "output_type": "execute_result",
          "data": {
            "text/plain": [
              "210040"
            ]
          },
          "metadata": {},
          "execution_count": 13
        }
      ]
    },
    {
      "cell_type": "code",
      "source": [
        "!wc -l {train_file}"
      ],
      "metadata": {
        "colab": {
          "base_uri": "https://localhost:8080/"
        },
        "id": "fKpjoJBZkcDZ",
        "outputId": "65bccfa4-504c-4a43-edba-f5299c8d69f2"
      },
      "execution_count": 14,
      "outputs": [
        {
          "output_type": "stream",
          "name": "stdout",
          "text": [
            "210040 /content/pubmed-rct/PubMed_20k_RCT_numbers_replaced_with_at_sign/train.txt\n"
          ]
        }
      ]
    },
    {
      "cell_type": "code",
      "source": [
        "def get_lines(filename):\n",
        "  '''\n",
        "  provide the filename as an argument\n",
        "\n",
        "  returns the file contents , each sentences converted into a list pf string values\n",
        "  '''\n",
        "  f = open(filename, 'r')\n",
        "  return f.readlines()"
      ],
      "metadata": {
        "id": "s4GvB41QlERJ"
      },
      "execution_count": 15,
      "outputs": []
    },
    {
      "cell_type": "code",
      "source": [
        "# creates a list of variables for the train, test, and validation dataset\n",
        "train_list = get_lines(train_file)\n",
        "dev_list = get_lines(dev_file)\n",
        "test_list = get_lines(test_file)"
      ],
      "metadata": {
        "id": "rCCczHUQlpzw"
      },
      "execution_count": 16,
      "outputs": []
    },
    {
      "cell_type": "code",
      "source": [
        "train_list[:20]"
      ],
      "metadata": {
        "colab": {
          "base_uri": "https://localhost:8080/"
        },
        "id": "k0oXEi8UltsV",
        "outputId": "00ae84eb-7721-41a1-d76f-824e518f62eb"
      },
      "execution_count": 17,
      "outputs": [
        {
          "output_type": "execute_result",
          "data": {
            "text/plain": [
              "['###24293578\\n',\n",
              " 'OBJECTIVE\\tTo investigate the efficacy of @ weeks of daily low-dose oral prednisolone in improving pain , mobility , and systemic low-grade inflammation in the short term and whether the effect would be sustained at @ weeks in older adults with moderate to severe knee osteoarthritis ( OA ) .\\n',\n",
              " 'METHODS\\tA total of @ patients with primary knee OA were randomized @:@ ; @ received @ mg/day of prednisolone and @ received placebo for @ weeks .\\n',\n",
              " 'METHODS\\tOutcome measures included pain reduction and improvement in function scores and systemic inflammation markers .\\n',\n",
              " 'METHODS\\tPain was assessed using the visual analog pain scale ( @-@ mm ) .\\n',\n",
              " 'METHODS\\tSecondary outcome measures included the Western Ontario and McMaster Universities Osteoarthritis Index scores , patient global assessment ( PGA ) of the severity of knee OA , and @-min walk distance ( @MWD ) .\\n',\n",
              " 'METHODS\\tSerum levels of interleukin @ ( IL-@ ) , IL-@ , tumor necrosis factor ( TNF ) - , and high-sensitivity C-reactive protein ( hsCRP ) were measured .\\n',\n",
              " 'RESULTS\\tThere was a clinically relevant reduction in the intervention group compared to the placebo group for knee pain , physical function , PGA , and @MWD at @ weeks .\\n',\n",
              " 'RESULTS\\tThe mean difference between treatment arms ( @ % CI ) was @ ( @-@ @ ) , p < @ ; @ ( @-@ @ ) , p < @ ; @ ( @-@ @ ) , p < @ ; and @ ( @-@ @ ) , p < @ , respectively .\\n',\n",
              " 'RESULTS\\tFurther , there was a clinically relevant reduction in the serum levels of IL-@ , IL-@ , TNF - , and hsCRP at @ weeks in the intervention group when compared to the placebo group .\\n',\n",
              " 'RESULTS\\tThese differences remained significant at @ weeks .\\n',\n",
              " 'RESULTS\\tThe Outcome Measures in Rheumatology Clinical Trials-Osteoarthritis Research Society International responder rate was @ % in the intervention group and @ % in the placebo group ( p < @ ) .\\n',\n",
              " 'CONCLUSIONS\\tLow-dose oral prednisolone had both a short-term and a longer sustained effect resulting in less knee pain , better physical function , and attenuation of systemic inflammation in older patients with knee OA ( ClinicalTrials.gov identifier NCT@ ) .\\n',\n",
              " '\\n',\n",
              " '###24854809\\n',\n",
              " 'BACKGROUND\\tEmotional eating is associated with overeating and the development of obesity .\\n',\n",
              " 'BACKGROUND\\tYet , empirical evidence for individual ( trait ) differences in emotional eating and cognitive mechanisms that contribute to eating during sad mood remain equivocal .\\n',\n",
              " 'OBJECTIVE\\tThe aim of this study was to test if attention bias for food moderates the effect of self-reported emotional eating during sad mood ( vs neutral mood ) on actual food intake .\\n',\n",
              " 'OBJECTIVE\\tIt was expected that emotional eating is predictive of elevated attention for food and higher food intake after an experimentally induced sad mood and that attentional maintenance on food predicts food intake during a sad versus a neutral mood .\\n',\n",
              " 'METHODS\\tParticipants ( N = @ ) were randomly assigned to one of the two experimental mood induction conditions ( sad/neutral ) .\\n']"
            ]
          },
          "metadata": {},
          "execution_count": 17
        }
      ]
    },
    {
      "cell_type": "markdown",
      "source": [
        "**INPUT**\n",
        "['###24293578\\n',\n",
        " 'OBJECTIVE\\tTo investigate the efficacy of @ weeks of daily low-dose oral prednisolone in improving pain , mobility , and systemic low-grade inflammation in the short term and whether the effect would be sustained at @ weeks in older adults with moderate to severe knee osteoarthritis ( OA ) .\\n',\n",
        " 'METHODS\\tA total of @ patients with primary knee OA were randomized @:@ ; @ received @ mg/day of prednisolone and @ received placebo for @ weeks .\\n',\n",
        " 'METHODS\\tOutcome measures included pain reduction and improvement in function scores and systemic inflammation markers .\\n',\n",
        " 'METHODS\\tPain was assessed using the visual analog pain scale ( @-@ mm ) .\\n',\n",
        " 'METHODS\\tSecondary outcome measures included the Western Ontario and McMaster Universities Osteoarthritis Index scores , patient global assessment ( PGA ) of the severity of knee OA , and @-min walk distance ( @MWD ) .\\n',...]\n",
        "\n",
        "**OUTPUT:**\n",
        "[{'line_number': 0,\n",
        "  'target': 'OBJECTIVE',\n",
        "  'text': 'to investigate the efficacy of @ weeks of daily low-dose oral prednisolone in improving pain , mobility , and systemic low-grade inflammation in the short term and whether the effect would be sustained at @ weeks in older adults with moderate to severe knee osteoarthritis ( oa ) .',\n",
        "  'total_lines': 11},\n",
        "  ...]"
      ],
      "metadata": {
        "id": "2qZ00XFkdD0y"
      }
    },
    {
      "cell_type": "markdown",
      "source": [
        "#convert list of strings into a list of dictionary\n",
        "\n",
        "**INPUT**\n",
        "```\n",
        "['###Abstract ID 1\\n',\n",
        " 'Objective\\ttarget_text1\\n',\n",
        " 'Method\\ttarget_text2\\n',\n",
        " 'Results\\ttarget_text3\\n',\n",
        " 'Conclusions\\ttarget_text3\\n',\n",
        " '###Abstract ID 2\\n',\n",
        " ...\n",
        " ]\n",
        "```\n",
        " **OUTPUT**\n",
        "```\n",
        "[{'line_number':0, 'target':'Objective', 'text':'target_text1', 'total_lines':4},\n",
        " {'line_number':1, 'target':'Method', 'text':'target_text2', 'total_lines':4},\n",
        " ...\n",
        " ]\n",
        "```\n",
        "\n"
      ],
      "metadata": {
        "id": "IS3-JOZAf-lg"
      }
    },
    {
      "cell_type": "code",
      "source": [
        "train_list[:10]"
      ],
      "metadata": {
        "colab": {
          "base_uri": "https://localhost:8080/"
        },
        "id": "km2dXiy3f7a9",
        "outputId": "7d440f8b-0758-466d-f29d-5221c856a013"
      },
      "execution_count": 18,
      "outputs": [
        {
          "output_type": "execute_result",
          "data": {
            "text/plain": [
              "['###24293578\\n',\n",
              " 'OBJECTIVE\\tTo investigate the efficacy of @ weeks of daily low-dose oral prednisolone in improving pain , mobility , and systemic low-grade inflammation in the short term and whether the effect would be sustained at @ weeks in older adults with moderate to severe knee osteoarthritis ( OA ) .\\n',\n",
              " 'METHODS\\tA total of @ patients with primary knee OA were randomized @:@ ; @ received @ mg/day of prednisolone and @ received placebo for @ weeks .\\n',\n",
              " 'METHODS\\tOutcome measures included pain reduction and improvement in function scores and systemic inflammation markers .\\n',\n",
              " 'METHODS\\tPain was assessed using the visual analog pain scale ( @-@ mm ) .\\n',\n",
              " 'METHODS\\tSecondary outcome measures included the Western Ontario and McMaster Universities Osteoarthritis Index scores , patient global assessment ( PGA ) of the severity of knee OA , and @-min walk distance ( @MWD ) .\\n',\n",
              " 'METHODS\\tSerum levels of interleukin @ ( IL-@ ) , IL-@ , tumor necrosis factor ( TNF ) - , and high-sensitivity C-reactive protein ( hsCRP ) were measured .\\n',\n",
              " 'RESULTS\\tThere was a clinically relevant reduction in the intervention group compared to the placebo group for knee pain , physical function , PGA , and @MWD at @ weeks .\\n',\n",
              " 'RESULTS\\tThe mean difference between treatment arms ( @ % CI ) was @ ( @-@ @ ) , p < @ ; @ ( @-@ @ ) , p < @ ; @ ( @-@ @ ) , p < @ ; and @ ( @-@ @ ) , p < @ , respectively .\\n',\n",
              " 'RESULTS\\tFurther , there was a clinically relevant reduction in the serum levels of IL-@ , IL-@ , TNF - , and hsCRP at @ weeks in the intervention group when compared to the placebo group .\\n']"
            ]
          },
          "metadata": {},
          "execution_count": 18
        }
      ]
    },
    {
      "cell_type": "code",
      "source": [
        "[{'line_no':i-1, \n",
        "  'target':train_list[i].split('\\t')[0]\n",
        "  # 'text':train_list[i].split('\\t')[1] \n",
        "  } for i in range(30) if train_list[i].split('\\t')[0] != '\\n' and not '###' in train_list[i]]"
      ],
      "metadata": {
        "colab": {
          "base_uri": "https://localhost:8080/"
        },
        "id": "RqmUSi62_cqk",
        "outputId": "2aec1e64-9fab-4392-d91c-834c32e81387"
      },
      "execution_count": 19,
      "outputs": [
        {
          "output_type": "execute_result",
          "data": {
            "text/plain": [
              "[{'line_no': 0, 'target': 'OBJECTIVE'},\n",
              " {'line_no': 1, 'target': 'METHODS'},\n",
              " {'line_no': 2, 'target': 'METHODS'},\n",
              " {'line_no': 3, 'target': 'METHODS'},\n",
              " {'line_no': 4, 'target': 'METHODS'},\n",
              " {'line_no': 5, 'target': 'METHODS'},\n",
              " {'line_no': 6, 'target': 'RESULTS'},\n",
              " {'line_no': 7, 'target': 'RESULTS'},\n",
              " {'line_no': 8, 'target': 'RESULTS'},\n",
              " {'line_no': 9, 'target': 'RESULTS'},\n",
              " {'line_no': 10, 'target': 'RESULTS'},\n",
              " {'line_no': 11, 'target': 'CONCLUSIONS'},\n",
              " {'line_no': 14, 'target': 'BACKGROUND'},\n",
              " {'line_no': 15, 'target': 'BACKGROUND'},\n",
              " {'line_no': 16, 'target': 'OBJECTIVE'},\n",
              " {'line_no': 17, 'target': 'OBJECTIVE'},\n",
              " {'line_no': 18, 'target': 'METHODS'},\n",
              " {'line_no': 19, 'target': 'METHODS'},\n",
              " {'line_no': 20, 'target': 'METHODS'},\n",
              " {'line_no': 21, 'target': 'RESULTS'},\n",
              " {'line_no': 22, 'target': 'RESULTS'},\n",
              " {'line_no': 23, 'target': 'CONCLUSIONS'},\n",
              " {'line_no': 24, 'target': 'CONCLUSIONS'},\n",
              " {'line_no': 27, 'target': 'BACKGROUND'},\n",
              " {'line_no': 28, 'target': 'BACKGROUND'}]"
            ]
          },
          "metadata": {},
          "execution_count": 19
        }
      ]
    },
    {
      "cell_type": "code",
      "source": [
        "[i for i in range(30) if '###' in train_list[i] or train_list[i].split('\\t')[0] == '\\n']"
      ],
      "metadata": {
        "colab": {
          "base_uri": "https://localhost:8080/"
        },
        "id": "e77fjIodP6Zb",
        "outputId": "dc315479-3c38-439d-a636-145eb99faed1"
      },
      "execution_count": 20,
      "outputs": [
        {
          "output_type": "execute_result",
          "data": {
            "text/plain": [
              "[0, 13, 14, 26, 27]"
            ]
          },
          "metadata": {},
          "execution_count": 20
        }
      ]
    },
    {
      "cell_type": "code",
      "source": [
        "for i in range(len(train_list[:10])):\n",
        "  if '###' in train_list[i]:\n",
        "    abstract_id = train_list[0].split('\\n')\n",
        "  else:\n",
        "    print(f'{abstract_id[0]}\\t{train_list[i]}')"
      ],
      "metadata": {
        "colab": {
          "base_uri": "https://localhost:8080/"
        },
        "id": "03lqq1I5eXI8",
        "outputId": "2187b2c6-bf25-4f3b-9fcd-d9743e6991bb"
      },
      "execution_count": 21,
      "outputs": [
        {
          "output_type": "stream",
          "name": "stdout",
          "text": [
            "###24293578\tOBJECTIVE\tTo investigate the efficacy of @ weeks of daily low-dose oral prednisolone in improving pain , mobility , and systemic low-grade inflammation in the short term and whether the effect would be sustained at @ weeks in older adults with moderate to severe knee osteoarthritis ( OA ) .\n",
            "\n",
            "###24293578\tMETHODS\tA total of @ patients with primary knee OA were randomized @:@ ; @ received @ mg/day of prednisolone and @ received placebo for @ weeks .\n",
            "\n",
            "###24293578\tMETHODS\tOutcome measures included pain reduction and improvement in function scores and systemic inflammation markers .\n",
            "\n",
            "###24293578\tMETHODS\tPain was assessed using the visual analog pain scale ( @-@ mm ) .\n",
            "\n",
            "###24293578\tMETHODS\tSecondary outcome measures included the Western Ontario and McMaster Universities Osteoarthritis Index scores , patient global assessment ( PGA ) of the severity of knee OA , and @-min walk distance ( @MWD ) .\n",
            "\n",
            "###24293578\tMETHODS\tSerum levels of interleukin @ ( IL-@ ) , IL-@ , tumor necrosis factor ( TNF ) - , and high-sensitivity C-reactive protein ( hsCRP ) were measured .\n",
            "\n",
            "###24293578\tRESULTS\tThere was a clinically relevant reduction in the intervention group compared to the placebo group for knee pain , physical function , PGA , and @MWD at @ weeks .\n",
            "\n",
            "###24293578\tRESULTS\tThe mean difference between treatment arms ( @ % CI ) was @ ( @-@ @ ) , p < @ ; @ ( @-@ @ ) , p < @ ; @ ( @-@ @ ) , p < @ ; and @ ( @-@ @ ) , p < @ , respectively .\n",
            "\n",
            "###24293578\tRESULTS\tFurther , there was a clinically relevant reduction in the serum levels of IL-@ , IL-@ , TNF - , and hsCRP at @ weeks in the intervention group when compared to the placebo group .\n",
            "\n"
          ]
        }
      ]
    },
    {
      "cell_type": "markdown",
      "source": [
        "### Preprocessing the text - Approach 1 (**subset of data**)"
      ],
      "metadata": {
        "id": "ARmxZT5DAghf"
      }
    },
    {
      "cell_type": "code",
      "source": [
        "transformed_train_list = []\n",
        "counter = -1\n",
        "for i in range(len(train_list[:50])):\n",
        "  # for line 0 , extract the abstract id \n",
        "  if i==0:\n",
        "     abstract_id = train_list[i].split('\\n')[0].strip('#')\n",
        "     prev_abstract_id=[]\n",
        "\n",
        "  # for line 1 and above, follow the below logic\n",
        "  if i !=0 and '###' in train_list[i]:\n",
        "    prev_abstract_id = abstract_id\n",
        "    abstract_id = train_list[i].split('\\n')[0].strip('#') \n",
        "  else:\n",
        "    prev_abstract_id=abstract_id\n",
        "\n",
        "  #debug statement\n",
        "  # print(f\"Loop{i} - abstract_id: {abstract_id}, prev_abstract_id: {prev_abstract_id}, {abstract_id == prev_abstract_id}\")\n",
        "  #set the line counter\n",
        "  if abstract_id != prev_abstract_id:\n",
        "     counter = 0\n",
        "  else:\n",
        "     counter = counter + 1 \n",
        "\n",
        "  # append the final output into a transformed list\n",
        "  if train_list[i] != '\\n' and not '###' in train_list[i]:\n",
        "     transformed_train_list.append({\n",
        "          'line_no':counter,\n",
        "          'abstract_id':abstract_id,\n",
        "          'target':train_list[i].split('\\t')[0],\n",
        "          'text':train_list[i].split('\\t')[1]})\n",
        "      \n"
      ],
      "metadata": {
        "id": "W4EP6s7DWnve"
      },
      "execution_count": 22,
      "outputs": []
    },
    {
      "cell_type": "code",
      "source": [
        "# verify the output\n",
        "# transformed_train_list[:20]"
      ],
      "metadata": {
        "id": "VhxbjgZKtmww"
      },
      "execution_count": 23,
      "outputs": []
    },
    {
      "cell_type": "code",
      "source": [
        "# Load the transformed data into a dataframe\n",
        "train_df = pd.DataFrame(transformed_train_list)"
      ],
      "metadata": {
        "id": "TSWmK7t4G_s8"
      },
      "execution_count": 24,
      "outputs": []
    },
    {
      "cell_type": "code",
      "source": [
        "# calculate the total lines and add it to the dataframe\n",
        "train_df[\"total_lines\"] = train_df.groupby([\"abstract_id\"])[\"abstract_id\"].transform(\"count\")"
      ],
      "metadata": {
        "id": "_tj7lVKndIsF"
      },
      "execution_count": 25,
      "outputs": []
    },
    {
      "cell_type": "code",
      "source": [
        "train_df"
      ],
      "metadata": {
        "colab": {
          "base_uri": "https://localhost:8080/",
          "height": 1000
        },
        "id": "1XNxrk9mIL0I",
        "outputId": "6b51b5b9-cfd4-46ca-f484-4d76887be6d9"
      },
      "execution_count": 26,
      "outputs": [
        {
          "output_type": "execute_result",
          "data": {
            "text/plain": [
              "    line_no abstract_id       target  \\\n",
              "0         1    24293578    OBJECTIVE   \n",
              "1         2    24293578      METHODS   \n",
              "2         3    24293578      METHODS   \n",
              "3         4    24293578      METHODS   \n",
              "4         5    24293578      METHODS   \n",
              "5         6    24293578      METHODS   \n",
              "6         7    24293578      RESULTS   \n",
              "7         8    24293578      RESULTS   \n",
              "8         9    24293578      RESULTS   \n",
              "9        10    24293578      RESULTS   \n",
              "10       11    24293578      RESULTS   \n",
              "11       12    24293578  CONCLUSIONS   \n",
              "12        1    24854809   BACKGROUND   \n",
              "13        2    24854809   BACKGROUND   \n",
              "14        3    24854809    OBJECTIVE   \n",
              "15        4    24854809    OBJECTIVE   \n",
              "16        5    24854809      METHODS   \n",
              "17        6    24854809      METHODS   \n",
              "18        7    24854809      METHODS   \n",
              "19        8    24854809      RESULTS   \n",
              "20        9    24854809      RESULTS   \n",
              "21       10    24854809  CONCLUSIONS   \n",
              "22       11    24854809  CONCLUSIONS   \n",
              "23        1    25165090   BACKGROUND   \n",
              "24        2    25165090   BACKGROUND   \n",
              "25        3    25165090      METHODS   \n",
              "26        4    25165090      METHODS   \n",
              "27        5    25165090      METHODS   \n",
              "28        6    25165090      METHODS   \n",
              "29        7    25165090      METHODS   \n",
              "30        8    25165090      METHODS   \n",
              "31        9    25165090      RESULTS   \n",
              "32       10    25165090      RESULTS   \n",
              "33       11    25165090      RESULTS   \n",
              "34       12    25165090  CONCLUSIONS   \n",
              "35       13    25165090  CONCLUSIONS   \n",
              "36       14    25165090  CONCLUSIONS   \n",
              "37       15    25165090   BACKGROUND   \n",
              "38        1    24633056    OBJECTIVE   \n",
              "39        2    24633056      METHODS   \n",
              "40        3    24633056      METHODS   \n",
              "41        4    24633056      METHODS   \n",
              "42        5    24633056      METHODS   \n",
              "\n",
              "                                                 text  total_lines  \n",
              "0   To investigate the efficacy of @ weeks of dail...           12  \n",
              "1   A total of @ patients with primary knee OA wer...           12  \n",
              "2   Outcome measures included pain reduction and i...           12  \n",
              "3   Pain was assessed using the visual analog pain...           12  \n",
              "4   Secondary outcome measures included the Wester...           12  \n",
              "5   Serum levels of interleukin @ ( IL-@ ) , IL-@ ...           12  \n",
              "6   There was a clinically relevant reduction in t...           12  \n",
              "7   The mean difference between treatment arms ( @...           12  \n",
              "8   Further , there was a clinically relevant redu...           12  \n",
              "9   These differences remained significant at @ we...           12  \n",
              "10  The Outcome Measures in Rheumatology Clinical ...           12  \n",
              "11  Low-dose oral prednisolone had both a short-te...           12  \n",
              "12  Emotional eating is associated with overeating...           11  \n",
              "13  Yet , empirical evidence for individual ( trai...           11  \n",
              "14  The aim of this study was to test if attention...           11  \n",
              "15  It was expected that emotional eating is predi...           11  \n",
              "16  Participants ( N = @ ) were randomly assigned ...           11  \n",
              "17  Attentional biases for high caloric foods were...           11  \n",
              "18  Self-reported emotional eating was assessed wi...           11  \n",
              "19  Hierarchical multivariate regression modeling ...           11  \n",
              "20  Yet , attention maintenance on food cues was s...           11  \n",
              "21  The current findings show that self-reported e...           11  \n",
              "22  Results further suggest that attention mainten...           11  \n",
              "23  Although working smoke alarms halve deaths in ...           15  \n",
              "24  We tested whether theory-based education incre...           15  \n",
              "25  Randomised multiarm trial , with a single arm ...           15  \n",
              "26  Intervention arms : ( @ ) Full Education combi...           15  \n",
              "27  Four hundred and thirty-six homes recruited th...           15  \n",
              "28  Follow-up visits checked alarm operability in ...           15  \n",
              "29  number of homes with working alarms defined as...           15  \n",
              "30  Regressions controlled for alarm status preint...           15  \n",
              "31  Homes in the Full Education and Practice arms ...           15  \n",
              "32               Working alarms per home rose @ % .\\n           15  \n",
              "33  Full Education and Practice had similar effect...           15  \n",
              "34  Without exceeding typical fire department inst...           15  \n",
              "35                       Hands-on practice is key .\\n           15  \n",
              "36  Two years after installation , for every three...           15  \n",
              "37      http://www.clinicaltrials.gov number NCT@ .\\n           15  \n",
              "38  To evaluate the performance ( efficacy , safet...            5  \n",
              "39  A non-inferiority European randomised controll...            5  \n",
              "40  Patients were followed over a @-week period an...            5  \n",
              "41  The primary judgement criteria was the relativ...            5  \n",
              "42  Secondary endpoints were the relative reductio...            5  "
            ],
            "text/html": [
              "\n",
              "  <div id=\"df-efda4b85-06dd-480a-b412-6164d113246b\">\n",
              "    <div class=\"colab-df-container\">\n",
              "      <div>\n",
              "<style scoped>\n",
              "    .dataframe tbody tr th:only-of-type {\n",
              "        vertical-align: middle;\n",
              "    }\n",
              "\n",
              "    .dataframe tbody tr th {\n",
              "        vertical-align: top;\n",
              "    }\n",
              "\n",
              "    .dataframe thead th {\n",
              "        text-align: right;\n",
              "    }\n",
              "</style>\n",
              "<table border=\"1\" class=\"dataframe\">\n",
              "  <thead>\n",
              "    <tr style=\"text-align: right;\">\n",
              "      <th></th>\n",
              "      <th>line_no</th>\n",
              "      <th>abstract_id</th>\n",
              "      <th>target</th>\n",
              "      <th>text</th>\n",
              "      <th>total_lines</th>\n",
              "    </tr>\n",
              "  </thead>\n",
              "  <tbody>\n",
              "    <tr>\n",
              "      <th>0</th>\n",
              "      <td>1</td>\n",
              "      <td>24293578</td>\n",
              "      <td>OBJECTIVE</td>\n",
              "      <td>To investigate the efficacy of @ weeks of dail...</td>\n",
              "      <td>12</td>\n",
              "    </tr>\n",
              "    <tr>\n",
              "      <th>1</th>\n",
              "      <td>2</td>\n",
              "      <td>24293578</td>\n",
              "      <td>METHODS</td>\n",
              "      <td>A total of @ patients with primary knee OA wer...</td>\n",
              "      <td>12</td>\n",
              "    </tr>\n",
              "    <tr>\n",
              "      <th>2</th>\n",
              "      <td>3</td>\n",
              "      <td>24293578</td>\n",
              "      <td>METHODS</td>\n",
              "      <td>Outcome measures included pain reduction and i...</td>\n",
              "      <td>12</td>\n",
              "    </tr>\n",
              "    <tr>\n",
              "      <th>3</th>\n",
              "      <td>4</td>\n",
              "      <td>24293578</td>\n",
              "      <td>METHODS</td>\n",
              "      <td>Pain was assessed using the visual analog pain...</td>\n",
              "      <td>12</td>\n",
              "    </tr>\n",
              "    <tr>\n",
              "      <th>4</th>\n",
              "      <td>5</td>\n",
              "      <td>24293578</td>\n",
              "      <td>METHODS</td>\n",
              "      <td>Secondary outcome measures included the Wester...</td>\n",
              "      <td>12</td>\n",
              "    </tr>\n",
              "    <tr>\n",
              "      <th>5</th>\n",
              "      <td>6</td>\n",
              "      <td>24293578</td>\n",
              "      <td>METHODS</td>\n",
              "      <td>Serum levels of interleukin @ ( IL-@ ) , IL-@ ...</td>\n",
              "      <td>12</td>\n",
              "    </tr>\n",
              "    <tr>\n",
              "      <th>6</th>\n",
              "      <td>7</td>\n",
              "      <td>24293578</td>\n",
              "      <td>RESULTS</td>\n",
              "      <td>There was a clinically relevant reduction in t...</td>\n",
              "      <td>12</td>\n",
              "    </tr>\n",
              "    <tr>\n",
              "      <th>7</th>\n",
              "      <td>8</td>\n",
              "      <td>24293578</td>\n",
              "      <td>RESULTS</td>\n",
              "      <td>The mean difference between treatment arms ( @...</td>\n",
              "      <td>12</td>\n",
              "    </tr>\n",
              "    <tr>\n",
              "      <th>8</th>\n",
              "      <td>9</td>\n",
              "      <td>24293578</td>\n",
              "      <td>RESULTS</td>\n",
              "      <td>Further , there was a clinically relevant redu...</td>\n",
              "      <td>12</td>\n",
              "    </tr>\n",
              "    <tr>\n",
              "      <th>9</th>\n",
              "      <td>10</td>\n",
              "      <td>24293578</td>\n",
              "      <td>RESULTS</td>\n",
              "      <td>These differences remained significant at @ we...</td>\n",
              "      <td>12</td>\n",
              "    </tr>\n",
              "    <tr>\n",
              "      <th>10</th>\n",
              "      <td>11</td>\n",
              "      <td>24293578</td>\n",
              "      <td>RESULTS</td>\n",
              "      <td>The Outcome Measures in Rheumatology Clinical ...</td>\n",
              "      <td>12</td>\n",
              "    </tr>\n",
              "    <tr>\n",
              "      <th>11</th>\n",
              "      <td>12</td>\n",
              "      <td>24293578</td>\n",
              "      <td>CONCLUSIONS</td>\n",
              "      <td>Low-dose oral prednisolone had both a short-te...</td>\n",
              "      <td>12</td>\n",
              "    </tr>\n",
              "    <tr>\n",
              "      <th>12</th>\n",
              "      <td>1</td>\n",
              "      <td>24854809</td>\n",
              "      <td>BACKGROUND</td>\n",
              "      <td>Emotional eating is associated with overeating...</td>\n",
              "      <td>11</td>\n",
              "    </tr>\n",
              "    <tr>\n",
              "      <th>13</th>\n",
              "      <td>2</td>\n",
              "      <td>24854809</td>\n",
              "      <td>BACKGROUND</td>\n",
              "      <td>Yet , empirical evidence for individual ( trai...</td>\n",
              "      <td>11</td>\n",
              "    </tr>\n",
              "    <tr>\n",
              "      <th>14</th>\n",
              "      <td>3</td>\n",
              "      <td>24854809</td>\n",
              "      <td>OBJECTIVE</td>\n",
              "      <td>The aim of this study was to test if attention...</td>\n",
              "      <td>11</td>\n",
              "    </tr>\n",
              "    <tr>\n",
              "      <th>15</th>\n",
              "      <td>4</td>\n",
              "      <td>24854809</td>\n",
              "      <td>OBJECTIVE</td>\n",
              "      <td>It was expected that emotional eating is predi...</td>\n",
              "      <td>11</td>\n",
              "    </tr>\n",
              "    <tr>\n",
              "      <th>16</th>\n",
              "      <td>5</td>\n",
              "      <td>24854809</td>\n",
              "      <td>METHODS</td>\n",
              "      <td>Participants ( N = @ ) were randomly assigned ...</td>\n",
              "      <td>11</td>\n",
              "    </tr>\n",
              "    <tr>\n",
              "      <th>17</th>\n",
              "      <td>6</td>\n",
              "      <td>24854809</td>\n",
              "      <td>METHODS</td>\n",
              "      <td>Attentional biases for high caloric foods were...</td>\n",
              "      <td>11</td>\n",
              "    </tr>\n",
              "    <tr>\n",
              "      <th>18</th>\n",
              "      <td>7</td>\n",
              "      <td>24854809</td>\n",
              "      <td>METHODS</td>\n",
              "      <td>Self-reported emotional eating was assessed wi...</td>\n",
              "      <td>11</td>\n",
              "    </tr>\n",
              "    <tr>\n",
              "      <th>19</th>\n",
              "      <td>8</td>\n",
              "      <td>24854809</td>\n",
              "      <td>RESULTS</td>\n",
              "      <td>Hierarchical multivariate regression modeling ...</td>\n",
              "      <td>11</td>\n",
              "    </tr>\n",
              "    <tr>\n",
              "      <th>20</th>\n",
              "      <td>9</td>\n",
              "      <td>24854809</td>\n",
              "      <td>RESULTS</td>\n",
              "      <td>Yet , attention maintenance on food cues was s...</td>\n",
              "      <td>11</td>\n",
              "    </tr>\n",
              "    <tr>\n",
              "      <th>21</th>\n",
              "      <td>10</td>\n",
              "      <td>24854809</td>\n",
              "      <td>CONCLUSIONS</td>\n",
              "      <td>The current findings show that self-reported e...</td>\n",
              "      <td>11</td>\n",
              "    </tr>\n",
              "    <tr>\n",
              "      <th>22</th>\n",
              "      <td>11</td>\n",
              "      <td>24854809</td>\n",
              "      <td>CONCLUSIONS</td>\n",
              "      <td>Results further suggest that attention mainten...</td>\n",
              "      <td>11</td>\n",
              "    </tr>\n",
              "    <tr>\n",
              "      <th>23</th>\n",
              "      <td>1</td>\n",
              "      <td>25165090</td>\n",
              "      <td>BACKGROUND</td>\n",
              "      <td>Although working smoke alarms halve deaths in ...</td>\n",
              "      <td>15</td>\n",
              "    </tr>\n",
              "    <tr>\n",
              "      <th>24</th>\n",
              "      <td>2</td>\n",
              "      <td>25165090</td>\n",
              "      <td>BACKGROUND</td>\n",
              "      <td>We tested whether theory-based education incre...</td>\n",
              "      <td>15</td>\n",
              "    </tr>\n",
              "    <tr>\n",
              "      <th>25</th>\n",
              "      <td>3</td>\n",
              "      <td>25165090</td>\n",
              "      <td>METHODS</td>\n",
              "      <td>Randomised multiarm trial , with a single arm ...</td>\n",
              "      <td>15</td>\n",
              "    </tr>\n",
              "    <tr>\n",
              "      <th>26</th>\n",
              "      <td>4</td>\n",
              "      <td>25165090</td>\n",
              "      <td>METHODS</td>\n",
              "      <td>Intervention arms : ( @ ) Full Education combi...</td>\n",
              "      <td>15</td>\n",
              "    </tr>\n",
              "    <tr>\n",
              "      <th>27</th>\n",
              "      <td>5</td>\n",
              "      <td>25165090</td>\n",
              "      <td>METHODS</td>\n",
              "      <td>Four hundred and thirty-six homes recruited th...</td>\n",
              "      <td>15</td>\n",
              "    </tr>\n",
              "    <tr>\n",
              "      <th>28</th>\n",
              "      <td>6</td>\n",
              "      <td>25165090</td>\n",
              "      <td>METHODS</td>\n",
              "      <td>Follow-up visits checked alarm operability in ...</td>\n",
              "      <td>15</td>\n",
              "    </tr>\n",
              "    <tr>\n",
              "      <th>29</th>\n",
              "      <td>7</td>\n",
              "      <td>25165090</td>\n",
              "      <td>METHODS</td>\n",
              "      <td>number of homes with working alarms defined as...</td>\n",
              "      <td>15</td>\n",
              "    </tr>\n",
              "    <tr>\n",
              "      <th>30</th>\n",
              "      <td>8</td>\n",
              "      <td>25165090</td>\n",
              "      <td>METHODS</td>\n",
              "      <td>Regressions controlled for alarm status preint...</td>\n",
              "      <td>15</td>\n",
              "    </tr>\n",
              "    <tr>\n",
              "      <th>31</th>\n",
              "      <td>9</td>\n",
              "      <td>25165090</td>\n",
              "      <td>RESULTS</td>\n",
              "      <td>Homes in the Full Education and Practice arms ...</td>\n",
              "      <td>15</td>\n",
              "    </tr>\n",
              "    <tr>\n",
              "      <th>32</th>\n",
              "      <td>10</td>\n",
              "      <td>25165090</td>\n",
              "      <td>RESULTS</td>\n",
              "      <td>Working alarms per home rose @ % .\\n</td>\n",
              "      <td>15</td>\n",
              "    </tr>\n",
              "    <tr>\n",
              "      <th>33</th>\n",
              "      <td>11</td>\n",
              "      <td>25165090</td>\n",
              "      <td>RESULTS</td>\n",
              "      <td>Full Education and Practice had similar effect...</td>\n",
              "      <td>15</td>\n",
              "    </tr>\n",
              "    <tr>\n",
              "      <th>34</th>\n",
              "      <td>12</td>\n",
              "      <td>25165090</td>\n",
              "      <td>CONCLUSIONS</td>\n",
              "      <td>Without exceeding typical fire department inst...</td>\n",
              "      <td>15</td>\n",
              "    </tr>\n",
              "    <tr>\n",
              "      <th>35</th>\n",
              "      <td>13</td>\n",
              "      <td>25165090</td>\n",
              "      <td>CONCLUSIONS</td>\n",
              "      <td>Hands-on practice is key .\\n</td>\n",
              "      <td>15</td>\n",
              "    </tr>\n",
              "    <tr>\n",
              "      <th>36</th>\n",
              "      <td>14</td>\n",
              "      <td>25165090</td>\n",
              "      <td>CONCLUSIONS</td>\n",
              "      <td>Two years after installation , for every three...</td>\n",
              "      <td>15</td>\n",
              "    </tr>\n",
              "    <tr>\n",
              "      <th>37</th>\n",
              "      <td>15</td>\n",
              "      <td>25165090</td>\n",
              "      <td>BACKGROUND</td>\n",
              "      <td>http://www.clinicaltrials.gov number NCT@ .\\n</td>\n",
              "      <td>15</td>\n",
              "    </tr>\n",
              "    <tr>\n",
              "      <th>38</th>\n",
              "      <td>1</td>\n",
              "      <td>24633056</td>\n",
              "      <td>OBJECTIVE</td>\n",
              "      <td>To evaluate the performance ( efficacy , safet...</td>\n",
              "      <td>5</td>\n",
              "    </tr>\n",
              "    <tr>\n",
              "      <th>39</th>\n",
              "      <td>2</td>\n",
              "      <td>24633056</td>\n",
              "      <td>METHODS</td>\n",
              "      <td>A non-inferiority European randomised controll...</td>\n",
              "      <td>5</td>\n",
              "    </tr>\n",
              "    <tr>\n",
              "      <th>40</th>\n",
              "      <td>3</td>\n",
              "      <td>24633056</td>\n",
              "      <td>METHODS</td>\n",
              "      <td>Patients were followed over a @-week period an...</td>\n",
              "      <td>5</td>\n",
              "    </tr>\n",
              "    <tr>\n",
              "      <th>41</th>\n",
              "      <td>4</td>\n",
              "      <td>24633056</td>\n",
              "      <td>METHODS</td>\n",
              "      <td>The primary judgement criteria was the relativ...</td>\n",
              "      <td>5</td>\n",
              "    </tr>\n",
              "    <tr>\n",
              "      <th>42</th>\n",
              "      <td>5</td>\n",
              "      <td>24633056</td>\n",
              "      <td>METHODS</td>\n",
              "      <td>Secondary endpoints were the relative reductio...</td>\n",
              "      <td>5</td>\n",
              "    </tr>\n",
              "  </tbody>\n",
              "</table>\n",
              "</div>\n",
              "      <button class=\"colab-df-convert\" onclick=\"convertToInteractive('df-efda4b85-06dd-480a-b412-6164d113246b')\"\n",
              "              title=\"Convert this dataframe to an interactive table.\"\n",
              "              style=\"display:none;\">\n",
              "        \n",
              "  <svg xmlns=\"http://www.w3.org/2000/svg\" height=\"24px\"viewBox=\"0 0 24 24\"\n",
              "       width=\"24px\">\n",
              "    <path d=\"M0 0h24v24H0V0z\" fill=\"none\"/>\n",
              "    <path d=\"M18.56 5.44l.94 2.06.94-2.06 2.06-.94-2.06-.94-.94-2.06-.94 2.06-2.06.94zm-11 1L8.5 8.5l.94-2.06 2.06-.94-2.06-.94L8.5 2.5l-.94 2.06-2.06.94zm10 10l.94 2.06.94-2.06 2.06-.94-2.06-.94-.94-2.06-.94 2.06-2.06.94z\"/><path d=\"M17.41 7.96l-1.37-1.37c-.4-.4-.92-.59-1.43-.59-.52 0-1.04.2-1.43.59L10.3 9.45l-7.72 7.72c-.78.78-.78 2.05 0 2.83L4 21.41c.39.39.9.59 1.41.59.51 0 1.02-.2 1.41-.59l7.78-7.78 2.81-2.81c.8-.78.8-2.07 0-2.86zM5.41 20L4 18.59l7.72-7.72 1.47 1.35L5.41 20z\"/>\n",
              "  </svg>\n",
              "      </button>\n",
              "      \n",
              "  <style>\n",
              "    .colab-df-container {\n",
              "      display:flex;\n",
              "      flex-wrap:wrap;\n",
              "      gap: 12px;\n",
              "    }\n",
              "\n",
              "    .colab-df-convert {\n",
              "      background-color: #E8F0FE;\n",
              "      border: none;\n",
              "      border-radius: 50%;\n",
              "      cursor: pointer;\n",
              "      display: none;\n",
              "      fill: #1967D2;\n",
              "      height: 32px;\n",
              "      padding: 0 0 0 0;\n",
              "      width: 32px;\n",
              "    }\n",
              "\n",
              "    .colab-df-convert:hover {\n",
              "      background-color: #E2EBFA;\n",
              "      box-shadow: 0px 1px 2px rgba(60, 64, 67, 0.3), 0px 1px 3px 1px rgba(60, 64, 67, 0.15);\n",
              "      fill: #174EA6;\n",
              "    }\n",
              "\n",
              "    [theme=dark] .colab-df-convert {\n",
              "      background-color: #3B4455;\n",
              "      fill: #D2E3FC;\n",
              "    }\n",
              "\n",
              "    [theme=dark] .colab-df-convert:hover {\n",
              "      background-color: #434B5C;\n",
              "      box-shadow: 0px 1px 3px 1px rgba(0, 0, 0, 0.15);\n",
              "      filter: drop-shadow(0px 1px 2px rgba(0, 0, 0, 0.3));\n",
              "      fill: #FFFFFF;\n",
              "    }\n",
              "  </style>\n",
              "\n",
              "      <script>\n",
              "        const buttonEl =\n",
              "          document.querySelector('#df-efda4b85-06dd-480a-b412-6164d113246b button.colab-df-convert');\n",
              "        buttonEl.style.display =\n",
              "          google.colab.kernel.accessAllowed ? 'block' : 'none';\n",
              "\n",
              "        async function convertToInteractive(key) {\n",
              "          const element = document.querySelector('#df-efda4b85-06dd-480a-b412-6164d113246b');\n",
              "          const dataTable =\n",
              "            await google.colab.kernel.invokeFunction('convertToInteractive',\n",
              "                                                     [key], {});\n",
              "          if (!dataTable) return;\n",
              "\n",
              "          const docLinkHtml = 'Like what you see? Visit the ' +\n",
              "            '<a target=\"_blank\" href=https://colab.research.google.com/notebooks/data_table.ipynb>data table notebook</a>'\n",
              "            + ' to learn more about interactive tables.';\n",
              "          element.innerHTML = '';\n",
              "          dataTable['output_type'] = 'display_data';\n",
              "          await google.colab.output.renderOutput(dataTable, element);\n",
              "          const docLink = document.createElement('div');\n",
              "          docLink.innerHTML = docLinkHtml;\n",
              "          element.appendChild(docLink);\n",
              "        }\n",
              "      </script>\n",
              "    </div>\n",
              "  </div>\n",
              "  "
            ]
          },
          "metadata": {},
          "execution_count": 26
        }
      ]
    },
    {
      "cell_type": "markdown",
      "source": [
        "### Preprocessing the text - Approach 1 (**full dataset**)"
      ],
      "metadata": {
        "id": "MjpMS0PdqC3y"
      }
    },
    {
      "cell_type": "code",
      "source": [
        "train_list[:10]"
      ],
      "metadata": {
        "colab": {
          "base_uri": "https://localhost:8080/"
        },
        "id": "9zYfSuhBqGX1",
        "outputId": "999b7713-fa52-40e8-898e-829ca029c7f7"
      },
      "execution_count": 27,
      "outputs": [
        {
          "output_type": "execute_result",
          "data": {
            "text/plain": [
              "['###24293578\\n',\n",
              " 'OBJECTIVE\\tTo investigate the efficacy of @ weeks of daily low-dose oral prednisolone in improving pain , mobility , and systemic low-grade inflammation in the short term and whether the effect would be sustained at @ weeks in older adults with moderate to severe knee osteoarthritis ( OA ) .\\n',\n",
              " 'METHODS\\tA total of @ patients with primary knee OA were randomized @:@ ; @ received @ mg/day of prednisolone and @ received placebo for @ weeks .\\n',\n",
              " 'METHODS\\tOutcome measures included pain reduction and improvement in function scores and systemic inflammation markers .\\n',\n",
              " 'METHODS\\tPain was assessed using the visual analog pain scale ( @-@ mm ) .\\n',\n",
              " 'METHODS\\tSecondary outcome measures included the Western Ontario and McMaster Universities Osteoarthritis Index scores , patient global assessment ( PGA ) of the severity of knee OA , and @-min walk distance ( @MWD ) .\\n',\n",
              " 'METHODS\\tSerum levels of interleukin @ ( IL-@ ) , IL-@ , tumor necrosis factor ( TNF ) - , and high-sensitivity C-reactive protein ( hsCRP ) were measured .\\n',\n",
              " 'RESULTS\\tThere was a clinically relevant reduction in the intervention group compared to the placebo group for knee pain , physical function , PGA , and @MWD at @ weeks .\\n',\n",
              " 'RESULTS\\tThe mean difference between treatment arms ( @ % CI ) was @ ( @-@ @ ) , p < @ ; @ ( @-@ @ ) , p < @ ; @ ( @-@ @ ) , p < @ ; and @ ( @-@ @ ) , p < @ , respectively .\\n',\n",
              " 'RESULTS\\tFurther , there was a clinically relevant reduction in the serum levels of IL-@ , IL-@ , TNF - , and hsCRP at @ weeks in the intervention group when compared to the placebo group .\\n']"
            ]
          },
          "metadata": {},
          "execution_count": 27
        }
      ]
    },
    {
      "cell_type": "code",
      "source": [
        "# %%timeit\n",
        "transformed_train_full_data_list = []\n",
        "for i in range(len(train_list)):\n",
        "  if i == 0:\n",
        "    abstract_id = train_list[0].strip('#\\n')\n",
        "    prev_abstract_id = []\n",
        "    counter = -1\n",
        "\n",
        "  if i != 0 and '###' in train_list[i] :\n",
        "    prev_abstract_id = abstract_id\n",
        "    abstract_id = train_list[i].strip('#\\n')\n",
        "    counter = 0\n",
        "  else:\n",
        "    prev_abstract_id=abstract_id\n",
        "    counter = counter + 1\n",
        "  \n",
        "  if train_list[i] != '\\n' and not '###' in train_list[i]:\n",
        "     transformed_train_full_data_list.append({\"line_no\": counter,\n",
        "                                              \"abstract_id\": abstract_id,\n",
        "                                              \"target\": train_list[i].split('\\t')[0],\n",
        "                                              \"text\": train_list[i].split('\\t')[1]})\n"
      ],
      "metadata": {
        "id": "DZT4F_ZAu8a7"
      },
      "execution_count": 28,
      "outputs": []
    },
    {
      "cell_type": "code",
      "source": [
        "# load it into a dataframe\n",
        "transformed_train_full_data_df = pd.DataFrame(transformed_train_full_data_list)\n",
        "transformed_train_full_data_df.head()"
      ],
      "metadata": {
        "colab": {
          "base_uri": "https://localhost:8080/",
          "height": 206
        },
        "id": "7XRwGxQ6tyBB",
        "outputId": "144b1f77-0f94-4442-de9d-ccb080f5e76e"
      },
      "execution_count": 29,
      "outputs": [
        {
          "output_type": "execute_result",
          "data": {
            "text/plain": [
              "   line_no abstract_id     target  \\\n",
              "0        1    24293578  OBJECTIVE   \n",
              "1        2    24293578    METHODS   \n",
              "2        3    24293578    METHODS   \n",
              "3        4    24293578    METHODS   \n",
              "4        5    24293578    METHODS   \n",
              "\n",
              "                                                text  \n",
              "0  To investigate the efficacy of @ weeks of dail...  \n",
              "1  A total of @ patients with primary knee OA wer...  \n",
              "2  Outcome measures included pain reduction and i...  \n",
              "3  Pain was assessed using the visual analog pain...  \n",
              "4  Secondary outcome measures included the Wester...  "
            ],
            "text/html": [
              "\n",
              "  <div id=\"df-3d6558b6-43be-4564-8e80-2fdcfd576bb6\">\n",
              "    <div class=\"colab-df-container\">\n",
              "      <div>\n",
              "<style scoped>\n",
              "    .dataframe tbody tr th:only-of-type {\n",
              "        vertical-align: middle;\n",
              "    }\n",
              "\n",
              "    .dataframe tbody tr th {\n",
              "        vertical-align: top;\n",
              "    }\n",
              "\n",
              "    .dataframe thead th {\n",
              "        text-align: right;\n",
              "    }\n",
              "</style>\n",
              "<table border=\"1\" class=\"dataframe\">\n",
              "  <thead>\n",
              "    <tr style=\"text-align: right;\">\n",
              "      <th></th>\n",
              "      <th>line_no</th>\n",
              "      <th>abstract_id</th>\n",
              "      <th>target</th>\n",
              "      <th>text</th>\n",
              "    </tr>\n",
              "  </thead>\n",
              "  <tbody>\n",
              "    <tr>\n",
              "      <th>0</th>\n",
              "      <td>1</td>\n",
              "      <td>24293578</td>\n",
              "      <td>OBJECTIVE</td>\n",
              "      <td>To investigate the efficacy of @ weeks of dail...</td>\n",
              "    </tr>\n",
              "    <tr>\n",
              "      <th>1</th>\n",
              "      <td>2</td>\n",
              "      <td>24293578</td>\n",
              "      <td>METHODS</td>\n",
              "      <td>A total of @ patients with primary knee OA wer...</td>\n",
              "    </tr>\n",
              "    <tr>\n",
              "      <th>2</th>\n",
              "      <td>3</td>\n",
              "      <td>24293578</td>\n",
              "      <td>METHODS</td>\n",
              "      <td>Outcome measures included pain reduction and i...</td>\n",
              "    </tr>\n",
              "    <tr>\n",
              "      <th>3</th>\n",
              "      <td>4</td>\n",
              "      <td>24293578</td>\n",
              "      <td>METHODS</td>\n",
              "      <td>Pain was assessed using the visual analog pain...</td>\n",
              "    </tr>\n",
              "    <tr>\n",
              "      <th>4</th>\n",
              "      <td>5</td>\n",
              "      <td>24293578</td>\n",
              "      <td>METHODS</td>\n",
              "      <td>Secondary outcome measures included the Wester...</td>\n",
              "    </tr>\n",
              "  </tbody>\n",
              "</table>\n",
              "</div>\n",
              "      <button class=\"colab-df-convert\" onclick=\"convertToInteractive('df-3d6558b6-43be-4564-8e80-2fdcfd576bb6')\"\n",
              "              title=\"Convert this dataframe to an interactive table.\"\n",
              "              style=\"display:none;\">\n",
              "        \n",
              "  <svg xmlns=\"http://www.w3.org/2000/svg\" height=\"24px\"viewBox=\"0 0 24 24\"\n",
              "       width=\"24px\">\n",
              "    <path d=\"M0 0h24v24H0V0z\" fill=\"none\"/>\n",
              "    <path d=\"M18.56 5.44l.94 2.06.94-2.06 2.06-.94-2.06-.94-.94-2.06-.94 2.06-2.06.94zm-11 1L8.5 8.5l.94-2.06 2.06-.94-2.06-.94L8.5 2.5l-.94 2.06-2.06.94zm10 10l.94 2.06.94-2.06 2.06-.94-2.06-.94-.94-2.06-.94 2.06-2.06.94z\"/><path d=\"M17.41 7.96l-1.37-1.37c-.4-.4-.92-.59-1.43-.59-.52 0-1.04.2-1.43.59L10.3 9.45l-7.72 7.72c-.78.78-.78 2.05 0 2.83L4 21.41c.39.39.9.59 1.41.59.51 0 1.02-.2 1.41-.59l7.78-7.78 2.81-2.81c.8-.78.8-2.07 0-2.86zM5.41 20L4 18.59l7.72-7.72 1.47 1.35L5.41 20z\"/>\n",
              "  </svg>\n",
              "      </button>\n",
              "      \n",
              "  <style>\n",
              "    .colab-df-container {\n",
              "      display:flex;\n",
              "      flex-wrap:wrap;\n",
              "      gap: 12px;\n",
              "    }\n",
              "\n",
              "    .colab-df-convert {\n",
              "      background-color: #E8F0FE;\n",
              "      border: none;\n",
              "      border-radius: 50%;\n",
              "      cursor: pointer;\n",
              "      display: none;\n",
              "      fill: #1967D2;\n",
              "      height: 32px;\n",
              "      padding: 0 0 0 0;\n",
              "      width: 32px;\n",
              "    }\n",
              "\n",
              "    .colab-df-convert:hover {\n",
              "      background-color: #E2EBFA;\n",
              "      box-shadow: 0px 1px 2px rgba(60, 64, 67, 0.3), 0px 1px 3px 1px rgba(60, 64, 67, 0.15);\n",
              "      fill: #174EA6;\n",
              "    }\n",
              "\n",
              "    [theme=dark] .colab-df-convert {\n",
              "      background-color: #3B4455;\n",
              "      fill: #D2E3FC;\n",
              "    }\n",
              "\n",
              "    [theme=dark] .colab-df-convert:hover {\n",
              "      background-color: #434B5C;\n",
              "      box-shadow: 0px 1px 3px 1px rgba(0, 0, 0, 0.15);\n",
              "      filter: drop-shadow(0px 1px 2px rgba(0, 0, 0, 0.3));\n",
              "      fill: #FFFFFF;\n",
              "    }\n",
              "  </style>\n",
              "\n",
              "      <script>\n",
              "        const buttonEl =\n",
              "          document.querySelector('#df-3d6558b6-43be-4564-8e80-2fdcfd576bb6 button.colab-df-convert');\n",
              "        buttonEl.style.display =\n",
              "          google.colab.kernel.accessAllowed ? 'block' : 'none';\n",
              "\n",
              "        async function convertToInteractive(key) {\n",
              "          const element = document.querySelector('#df-3d6558b6-43be-4564-8e80-2fdcfd576bb6');\n",
              "          const dataTable =\n",
              "            await google.colab.kernel.invokeFunction('convertToInteractive',\n",
              "                                                     [key], {});\n",
              "          if (!dataTable) return;\n",
              "\n",
              "          const docLinkHtml = 'Like what you see? Visit the ' +\n",
              "            '<a target=\"_blank\" href=https://colab.research.google.com/notebooks/data_table.ipynb>data table notebook</a>'\n",
              "            + ' to learn more about interactive tables.';\n",
              "          element.innerHTML = '';\n",
              "          dataTable['output_type'] = 'display_data';\n",
              "          await google.colab.output.renderOutput(dataTable, element);\n",
              "          const docLink = document.createElement('div');\n",
              "          docLink.innerHTML = docLinkHtml;\n",
              "          element.appendChild(docLink);\n",
              "        }\n",
              "      </script>\n",
              "    </div>\n",
              "  </div>\n",
              "  "
            ]
          },
          "metadata": {},
          "execution_count": 29
        }
      ]
    },
    {
      "cell_type": "code",
      "source": [
        "# verify whether the dataframe and train_list has equal number of elements\n",
        "assert transformed_train_full_data_df.shape[0] == len(transformed_train_full_data_list)\n"
      ],
      "metadata": {
        "id": "yBZpGW-1ub0K"
      },
      "execution_count": 30,
      "outputs": []
    },
    {
      "cell_type": "code",
      "source": [
        "# calculate and add total_lines to the dataframe for each row per abstract\n",
        "transformed_train_full_data_df[\"total_lines\"] = transformed_train_full_data_df.groupby(\"abstract_id\")[\"abstract_id\"].transform(\"count\")\n",
        "transformed_train_full_data_df.head()"
      ],
      "metadata": {
        "colab": {
          "base_uri": "https://localhost:8080/",
          "height": 206
        },
        "id": "jeC5exUK9-7K",
        "outputId": "2540c6b6-d49a-4e4d-8392-c897dad06d63"
      },
      "execution_count": 31,
      "outputs": [
        {
          "output_type": "execute_result",
          "data": {
            "text/plain": [
              "   line_no abstract_id     target  \\\n",
              "0        1    24293578  OBJECTIVE   \n",
              "1        2    24293578    METHODS   \n",
              "2        3    24293578    METHODS   \n",
              "3        4    24293578    METHODS   \n",
              "4        5    24293578    METHODS   \n",
              "\n",
              "                                                text  total_lines  \n",
              "0  To investigate the efficacy of @ weeks of dail...           12  \n",
              "1  A total of @ patients with primary knee OA wer...           12  \n",
              "2  Outcome measures included pain reduction and i...           12  \n",
              "3  Pain was assessed using the visual analog pain...           12  \n",
              "4  Secondary outcome measures included the Wester...           12  "
            ],
            "text/html": [
              "\n",
              "  <div id=\"df-4abe7de4-7dd7-4ed0-b616-2cf1ae0a21f5\">\n",
              "    <div class=\"colab-df-container\">\n",
              "      <div>\n",
              "<style scoped>\n",
              "    .dataframe tbody tr th:only-of-type {\n",
              "        vertical-align: middle;\n",
              "    }\n",
              "\n",
              "    .dataframe tbody tr th {\n",
              "        vertical-align: top;\n",
              "    }\n",
              "\n",
              "    .dataframe thead th {\n",
              "        text-align: right;\n",
              "    }\n",
              "</style>\n",
              "<table border=\"1\" class=\"dataframe\">\n",
              "  <thead>\n",
              "    <tr style=\"text-align: right;\">\n",
              "      <th></th>\n",
              "      <th>line_no</th>\n",
              "      <th>abstract_id</th>\n",
              "      <th>target</th>\n",
              "      <th>text</th>\n",
              "      <th>total_lines</th>\n",
              "    </tr>\n",
              "  </thead>\n",
              "  <tbody>\n",
              "    <tr>\n",
              "      <th>0</th>\n",
              "      <td>1</td>\n",
              "      <td>24293578</td>\n",
              "      <td>OBJECTIVE</td>\n",
              "      <td>To investigate the efficacy of @ weeks of dail...</td>\n",
              "      <td>12</td>\n",
              "    </tr>\n",
              "    <tr>\n",
              "      <th>1</th>\n",
              "      <td>2</td>\n",
              "      <td>24293578</td>\n",
              "      <td>METHODS</td>\n",
              "      <td>A total of @ patients with primary knee OA wer...</td>\n",
              "      <td>12</td>\n",
              "    </tr>\n",
              "    <tr>\n",
              "      <th>2</th>\n",
              "      <td>3</td>\n",
              "      <td>24293578</td>\n",
              "      <td>METHODS</td>\n",
              "      <td>Outcome measures included pain reduction and i...</td>\n",
              "      <td>12</td>\n",
              "    </tr>\n",
              "    <tr>\n",
              "      <th>3</th>\n",
              "      <td>4</td>\n",
              "      <td>24293578</td>\n",
              "      <td>METHODS</td>\n",
              "      <td>Pain was assessed using the visual analog pain...</td>\n",
              "      <td>12</td>\n",
              "    </tr>\n",
              "    <tr>\n",
              "      <th>4</th>\n",
              "      <td>5</td>\n",
              "      <td>24293578</td>\n",
              "      <td>METHODS</td>\n",
              "      <td>Secondary outcome measures included the Wester...</td>\n",
              "      <td>12</td>\n",
              "    </tr>\n",
              "  </tbody>\n",
              "</table>\n",
              "</div>\n",
              "      <button class=\"colab-df-convert\" onclick=\"convertToInteractive('df-4abe7de4-7dd7-4ed0-b616-2cf1ae0a21f5')\"\n",
              "              title=\"Convert this dataframe to an interactive table.\"\n",
              "              style=\"display:none;\">\n",
              "        \n",
              "  <svg xmlns=\"http://www.w3.org/2000/svg\" height=\"24px\"viewBox=\"0 0 24 24\"\n",
              "       width=\"24px\">\n",
              "    <path d=\"M0 0h24v24H0V0z\" fill=\"none\"/>\n",
              "    <path d=\"M18.56 5.44l.94 2.06.94-2.06 2.06-.94-2.06-.94-.94-2.06-.94 2.06-2.06.94zm-11 1L8.5 8.5l.94-2.06 2.06-.94-2.06-.94L8.5 2.5l-.94 2.06-2.06.94zm10 10l.94 2.06.94-2.06 2.06-.94-2.06-.94-.94-2.06-.94 2.06-2.06.94z\"/><path d=\"M17.41 7.96l-1.37-1.37c-.4-.4-.92-.59-1.43-.59-.52 0-1.04.2-1.43.59L10.3 9.45l-7.72 7.72c-.78.78-.78 2.05 0 2.83L4 21.41c.39.39.9.59 1.41.59.51 0 1.02-.2 1.41-.59l7.78-7.78 2.81-2.81c.8-.78.8-2.07 0-2.86zM5.41 20L4 18.59l7.72-7.72 1.47 1.35L5.41 20z\"/>\n",
              "  </svg>\n",
              "      </button>\n",
              "      \n",
              "  <style>\n",
              "    .colab-df-container {\n",
              "      display:flex;\n",
              "      flex-wrap:wrap;\n",
              "      gap: 12px;\n",
              "    }\n",
              "\n",
              "    .colab-df-convert {\n",
              "      background-color: #E8F0FE;\n",
              "      border: none;\n",
              "      border-radius: 50%;\n",
              "      cursor: pointer;\n",
              "      display: none;\n",
              "      fill: #1967D2;\n",
              "      height: 32px;\n",
              "      padding: 0 0 0 0;\n",
              "      width: 32px;\n",
              "    }\n",
              "\n",
              "    .colab-df-convert:hover {\n",
              "      background-color: #E2EBFA;\n",
              "      box-shadow: 0px 1px 2px rgba(60, 64, 67, 0.3), 0px 1px 3px 1px rgba(60, 64, 67, 0.15);\n",
              "      fill: #174EA6;\n",
              "    }\n",
              "\n",
              "    [theme=dark] .colab-df-convert {\n",
              "      background-color: #3B4455;\n",
              "      fill: #D2E3FC;\n",
              "    }\n",
              "\n",
              "    [theme=dark] .colab-df-convert:hover {\n",
              "      background-color: #434B5C;\n",
              "      box-shadow: 0px 1px 3px 1px rgba(0, 0, 0, 0.15);\n",
              "      filter: drop-shadow(0px 1px 2px rgba(0, 0, 0, 0.3));\n",
              "      fill: #FFFFFF;\n",
              "    }\n",
              "  </style>\n",
              "\n",
              "      <script>\n",
              "        const buttonEl =\n",
              "          document.querySelector('#df-4abe7de4-7dd7-4ed0-b616-2cf1ae0a21f5 button.colab-df-convert');\n",
              "        buttonEl.style.display =\n",
              "          google.colab.kernel.accessAllowed ? 'block' : 'none';\n",
              "\n",
              "        async function convertToInteractive(key) {\n",
              "          const element = document.querySelector('#df-4abe7de4-7dd7-4ed0-b616-2cf1ae0a21f5');\n",
              "          const dataTable =\n",
              "            await google.colab.kernel.invokeFunction('convertToInteractive',\n",
              "                                                     [key], {});\n",
              "          if (!dataTable) return;\n",
              "\n",
              "          const docLinkHtml = 'Like what you see? Visit the ' +\n",
              "            '<a target=\"_blank\" href=https://colab.research.google.com/notebooks/data_table.ipynb>data table notebook</a>'\n",
              "            + ' to learn more about interactive tables.';\n",
              "          element.innerHTML = '';\n",
              "          dataTable['output_type'] = 'display_data';\n",
              "          await google.colab.output.renderOutput(dataTable, element);\n",
              "          const docLink = document.createElement('div');\n",
              "          docLink.innerHTML = docLinkHtml;\n",
              "          element.appendChild(docLink);\n",
              "        }\n",
              "      </script>\n",
              "    </div>\n",
              "  </div>\n",
              "  "
            ]
          },
          "metadata": {},
          "execution_count": 31
        }
      ]
    },
    {
      "cell_type": "code",
      "source": [
        "# drop the abstract_id column\n",
        "# transformed_train_full_data_df.drop(columns=[\"abstract_id\"], inplace=True)\n",
        "transformed_train_full_data_df"
      ],
      "metadata": {
        "colab": {
          "base_uri": "https://localhost:8080/",
          "height": 424
        },
        "id": "zBedjFcAJpmA",
        "outputId": "f2bb5be4-456c-4407-db7c-b0be7c695278"
      },
      "execution_count": 32,
      "outputs": [
        {
          "output_type": "execute_result",
          "data": {
            "text/plain": [
              "        line_no abstract_id       target  \\\n",
              "0             1    24293578    OBJECTIVE   \n",
              "1             2    24293578      METHODS   \n",
              "2             3    24293578      METHODS   \n",
              "3             4    24293578      METHODS   \n",
              "4             5    24293578      METHODS   \n",
              "...         ...         ...          ...   \n",
              "180035        8    26227186      RESULTS   \n",
              "180036        9    26227186      RESULTS   \n",
              "180037       10    26227186      RESULTS   \n",
              "180038       11    26227186  CONCLUSIONS   \n",
              "180039       12    26227186  CONCLUSIONS   \n",
              "\n",
              "                                                     text  total_lines  \n",
              "0       To investigate the efficacy of @ weeks of dail...           12  \n",
              "1       A total of @ patients with primary knee OA wer...           12  \n",
              "2       Outcome measures included pain reduction and i...           12  \n",
              "3       Pain was assessed using the visual analog pain...           12  \n",
              "4       Secondary outcome measures included the Wester...           12  \n",
              "...                                                   ...          ...  \n",
              "180035  For the absolute change in percent atheroma vo...           12  \n",
              "180036  For PAV , a significantly greater percentage o...           12  \n",
              "180037  Both strategies had acceptable side effect pro...           12  \n",
              "180038  Compared with standard statin monotherapy , th...           12  \n",
              "180039  ( Plaque Regression With Cholesterol Absorptio...           12  \n",
              "\n",
              "[180040 rows x 5 columns]"
            ],
            "text/html": [
              "\n",
              "  <div id=\"df-7bfc98dd-9cc9-4814-885b-77fef3d9cf16\">\n",
              "    <div class=\"colab-df-container\">\n",
              "      <div>\n",
              "<style scoped>\n",
              "    .dataframe tbody tr th:only-of-type {\n",
              "        vertical-align: middle;\n",
              "    }\n",
              "\n",
              "    .dataframe tbody tr th {\n",
              "        vertical-align: top;\n",
              "    }\n",
              "\n",
              "    .dataframe thead th {\n",
              "        text-align: right;\n",
              "    }\n",
              "</style>\n",
              "<table border=\"1\" class=\"dataframe\">\n",
              "  <thead>\n",
              "    <tr style=\"text-align: right;\">\n",
              "      <th></th>\n",
              "      <th>line_no</th>\n",
              "      <th>abstract_id</th>\n",
              "      <th>target</th>\n",
              "      <th>text</th>\n",
              "      <th>total_lines</th>\n",
              "    </tr>\n",
              "  </thead>\n",
              "  <tbody>\n",
              "    <tr>\n",
              "      <th>0</th>\n",
              "      <td>1</td>\n",
              "      <td>24293578</td>\n",
              "      <td>OBJECTIVE</td>\n",
              "      <td>To investigate the efficacy of @ weeks of dail...</td>\n",
              "      <td>12</td>\n",
              "    </tr>\n",
              "    <tr>\n",
              "      <th>1</th>\n",
              "      <td>2</td>\n",
              "      <td>24293578</td>\n",
              "      <td>METHODS</td>\n",
              "      <td>A total of @ patients with primary knee OA wer...</td>\n",
              "      <td>12</td>\n",
              "    </tr>\n",
              "    <tr>\n",
              "      <th>2</th>\n",
              "      <td>3</td>\n",
              "      <td>24293578</td>\n",
              "      <td>METHODS</td>\n",
              "      <td>Outcome measures included pain reduction and i...</td>\n",
              "      <td>12</td>\n",
              "    </tr>\n",
              "    <tr>\n",
              "      <th>3</th>\n",
              "      <td>4</td>\n",
              "      <td>24293578</td>\n",
              "      <td>METHODS</td>\n",
              "      <td>Pain was assessed using the visual analog pain...</td>\n",
              "      <td>12</td>\n",
              "    </tr>\n",
              "    <tr>\n",
              "      <th>4</th>\n",
              "      <td>5</td>\n",
              "      <td>24293578</td>\n",
              "      <td>METHODS</td>\n",
              "      <td>Secondary outcome measures included the Wester...</td>\n",
              "      <td>12</td>\n",
              "    </tr>\n",
              "    <tr>\n",
              "      <th>...</th>\n",
              "      <td>...</td>\n",
              "      <td>...</td>\n",
              "      <td>...</td>\n",
              "      <td>...</td>\n",
              "      <td>...</td>\n",
              "    </tr>\n",
              "    <tr>\n",
              "      <th>180035</th>\n",
              "      <td>8</td>\n",
              "      <td>26227186</td>\n",
              "      <td>RESULTS</td>\n",
              "      <td>For the absolute change in percent atheroma vo...</td>\n",
              "      <td>12</td>\n",
              "    </tr>\n",
              "    <tr>\n",
              "      <th>180036</th>\n",
              "      <td>9</td>\n",
              "      <td>26227186</td>\n",
              "      <td>RESULTS</td>\n",
              "      <td>For PAV , a significantly greater percentage o...</td>\n",
              "      <td>12</td>\n",
              "    </tr>\n",
              "    <tr>\n",
              "      <th>180037</th>\n",
              "      <td>10</td>\n",
              "      <td>26227186</td>\n",
              "      <td>RESULTS</td>\n",
              "      <td>Both strategies had acceptable side effect pro...</td>\n",
              "      <td>12</td>\n",
              "    </tr>\n",
              "    <tr>\n",
              "      <th>180038</th>\n",
              "      <td>11</td>\n",
              "      <td>26227186</td>\n",
              "      <td>CONCLUSIONS</td>\n",
              "      <td>Compared with standard statin monotherapy , th...</td>\n",
              "      <td>12</td>\n",
              "    </tr>\n",
              "    <tr>\n",
              "      <th>180039</th>\n",
              "      <td>12</td>\n",
              "      <td>26227186</td>\n",
              "      <td>CONCLUSIONS</td>\n",
              "      <td>( Plaque Regression With Cholesterol Absorptio...</td>\n",
              "      <td>12</td>\n",
              "    </tr>\n",
              "  </tbody>\n",
              "</table>\n",
              "<p>180040 rows × 5 columns</p>\n",
              "</div>\n",
              "      <button class=\"colab-df-convert\" onclick=\"convertToInteractive('df-7bfc98dd-9cc9-4814-885b-77fef3d9cf16')\"\n",
              "              title=\"Convert this dataframe to an interactive table.\"\n",
              "              style=\"display:none;\">\n",
              "        \n",
              "  <svg xmlns=\"http://www.w3.org/2000/svg\" height=\"24px\"viewBox=\"0 0 24 24\"\n",
              "       width=\"24px\">\n",
              "    <path d=\"M0 0h24v24H0V0z\" fill=\"none\"/>\n",
              "    <path d=\"M18.56 5.44l.94 2.06.94-2.06 2.06-.94-2.06-.94-.94-2.06-.94 2.06-2.06.94zm-11 1L8.5 8.5l.94-2.06 2.06-.94-2.06-.94L8.5 2.5l-.94 2.06-2.06.94zm10 10l.94 2.06.94-2.06 2.06-.94-2.06-.94-.94-2.06-.94 2.06-2.06.94z\"/><path d=\"M17.41 7.96l-1.37-1.37c-.4-.4-.92-.59-1.43-.59-.52 0-1.04.2-1.43.59L10.3 9.45l-7.72 7.72c-.78.78-.78 2.05 0 2.83L4 21.41c.39.39.9.59 1.41.59.51 0 1.02-.2 1.41-.59l7.78-7.78 2.81-2.81c.8-.78.8-2.07 0-2.86zM5.41 20L4 18.59l7.72-7.72 1.47 1.35L5.41 20z\"/>\n",
              "  </svg>\n",
              "      </button>\n",
              "      \n",
              "  <style>\n",
              "    .colab-df-container {\n",
              "      display:flex;\n",
              "      flex-wrap:wrap;\n",
              "      gap: 12px;\n",
              "    }\n",
              "\n",
              "    .colab-df-convert {\n",
              "      background-color: #E8F0FE;\n",
              "      border: none;\n",
              "      border-radius: 50%;\n",
              "      cursor: pointer;\n",
              "      display: none;\n",
              "      fill: #1967D2;\n",
              "      height: 32px;\n",
              "      padding: 0 0 0 0;\n",
              "      width: 32px;\n",
              "    }\n",
              "\n",
              "    .colab-df-convert:hover {\n",
              "      background-color: #E2EBFA;\n",
              "      box-shadow: 0px 1px 2px rgba(60, 64, 67, 0.3), 0px 1px 3px 1px rgba(60, 64, 67, 0.15);\n",
              "      fill: #174EA6;\n",
              "    }\n",
              "\n",
              "    [theme=dark] .colab-df-convert {\n",
              "      background-color: #3B4455;\n",
              "      fill: #D2E3FC;\n",
              "    }\n",
              "\n",
              "    [theme=dark] .colab-df-convert:hover {\n",
              "      background-color: #434B5C;\n",
              "      box-shadow: 0px 1px 3px 1px rgba(0, 0, 0, 0.15);\n",
              "      filter: drop-shadow(0px 1px 2px rgba(0, 0, 0, 0.3));\n",
              "      fill: #FFFFFF;\n",
              "    }\n",
              "  </style>\n",
              "\n",
              "      <script>\n",
              "        const buttonEl =\n",
              "          document.querySelector('#df-7bfc98dd-9cc9-4814-885b-77fef3d9cf16 button.colab-df-convert');\n",
              "        buttonEl.style.display =\n",
              "          google.colab.kernel.accessAllowed ? 'block' : 'none';\n",
              "\n",
              "        async function convertToInteractive(key) {\n",
              "          const element = document.querySelector('#df-7bfc98dd-9cc9-4814-885b-77fef3d9cf16');\n",
              "          const dataTable =\n",
              "            await google.colab.kernel.invokeFunction('convertToInteractive',\n",
              "                                                     [key], {});\n",
              "          if (!dataTable) return;\n",
              "\n",
              "          const docLinkHtml = 'Like what you see? Visit the ' +\n",
              "            '<a target=\"_blank\" href=https://colab.research.google.com/notebooks/data_table.ipynb>data table notebook</a>'\n",
              "            + ' to learn more about interactive tables.';\n",
              "          element.innerHTML = '';\n",
              "          dataTable['output_type'] = 'display_data';\n",
              "          await google.colab.output.renderOutput(dataTable, element);\n",
              "          const docLink = document.createElement('div');\n",
              "          docLink.innerHTML = docLinkHtml;\n",
              "          element.appendChild(docLink);\n",
              "        }\n",
              "      </script>\n",
              "    </div>\n",
              "  </div>\n",
              "  "
            ]
          },
          "metadata": {},
          "execution_count": 32
        }
      ]
    },
    {
      "cell_type": "markdown",
      "source": [],
      "metadata": {
        "id": "75ot_gt1JL5x"
      }
    },
    {
      "cell_type": "markdown",
      "source": [
        "### Preprocessing the text - Approach 2 (**full dataset**)"
      ],
      "metadata": {
        "id": "m6gghQG2GuCS"
      }
    },
    {
      "cell_type": "code",
      "source": [
        "def preprocess_abstract_text(filename):\n",
        "    '''\n",
        "    Args: pass filename to the function\n",
        "\n",
        "    Returns transformed list with the preprocess text in the below format\n",
        "    [{line_no: line number of the particular abstract,\n",
        "    target: 'OBJECTIVE',\n",
        "    text:'@@@###$$@!!###',\n",
        "    total_words_per_line: @@,\n",
        "    total_lines: total lines in an abstract\n",
        "    }...]\n",
        "\n",
        "    '''\n",
        "    transformed_data=[]\n",
        "    file_lines = get_lines(filename)\n",
        "    # print(file_lines[:27])\n",
        "    for line in file_lines:\n",
        "      if line.startswith(\"###\"): # check to see if line is an ID line\n",
        "          abstract_id = line\n",
        "          abstract_lines = \"\" # reset abstract string\n",
        "          # print(abstract_id)\n",
        "      elif line == '\\n': # check to see if line is a new line\n",
        "          abstract_line_split = abstract_lines.splitlines() # split abstract into separate lines\n",
        "          # print(abstract_line_split)\n",
        "          for abstract_line_number, abstract_line in enumerate(abstract_line_split):\n",
        "            line_data = {\"line_no\":abstract_line_number,\n",
        "                        \"target\":abstract_line.split('\\t')[0],\n",
        "                        \"text\": abstract_line.split('\\t')[1],\n",
        "                        \"total_words_per_line\":len(abstract_line.split('\\t')[1].split(' ')),\n",
        "                        \"total_lines\":len(abstract_line_split)}\n",
        "            # print(line_data)\n",
        "            transformed_data.append(line_data)          \n",
        "      else: # if the above conditions aren't fulfilled, the line contains a labelled sentence\n",
        "          abstract_lines += line\n",
        "    return transformed_data"
      ],
      "metadata": {
        "id": "puxqtBQYIvsi"
      },
      "execution_count": 67,
      "outputs": []
    },
    {
      "cell_type": "code",
      "source": [
        "# use the above function to preprocess the train , validation and test data\n",
        "train_data = preprocess_abstract_text(train_file)\n",
        "validation_data = preprocess_abstract_text(dev_file)\n",
        "test_data = preprocess_abstract_text(test_file)"
      ],
      "metadata": {
        "id": "50rXjTmLI7Xh"
      },
      "execution_count": 68,
      "outputs": []
    },
    {
      "cell_type": "code",
      "source": [
        "len(train_data), len(validation_data), len(test_data)"
      ],
      "metadata": {
        "colab": {
          "base_uri": "https://localhost:8080/"
        },
        "id": "57xeHW_Jd5w9",
        "outputId": "82424e54-817c-4246-cb32-ee27d0aaadc8"
      },
      "execution_count": 70,
      "outputs": [
        {
          "output_type": "execute_result",
          "data": {
            "text/plain": [
              "(180040, 30212, 30135)"
            ]
          },
          "metadata": {},
          "execution_count": 70
        }
      ]
    },
    {
      "cell_type": "code",
      "source": [
        "# Load teh above datasets into a datframe\n",
        "train_df = pd.DataFrame(train_data)\n",
        "validation_df = pd.DataFrame(validation_data)\n",
        "test_df = pd.DataFrame(test_data)"
      ],
      "metadata": {
        "id": "WlB42QcPi8R_"
      },
      "execution_count": 69,
      "outputs": []
    },
    {
      "cell_type": "markdown",
      "source": [
        "### Let's visualize the dataset now"
      ],
      "metadata": {
        "id": "lgE9pHdRfPIt"
      }
    },
    {
      "cell_type": "code",
      "source": [
        "# check the count distribution of target types\n",
        "train_df[\"target\"].value_counts()"
      ],
      "metadata": {
        "colab": {
          "base_uri": "https://localhost:8080/"
        },
        "id": "FZa7kVVqfdsT",
        "outputId": "dd4abc41-1851-48a4-ccb1-c67a77ec8b02"
      },
      "execution_count": 71,
      "outputs": [
        {
          "output_type": "execute_result",
          "data": {
            "text/plain": [
              "METHODS        59353\n",
              "RESULTS        57953\n",
              "CONCLUSIONS    27168\n",
              "BACKGROUND     21727\n",
              "OBJECTIVE      13839\n",
              "Name: target, dtype: int64"
            ]
          },
          "metadata": {},
          "execution_count": 71
        }
      ]
    },
    {
      "cell_type": "code",
      "source": [
        "# check pct distribution of the target types\n",
        "(train_df[\"target\"].value_counts() / train_df[\"target\"].count()) * 100"
      ],
      "metadata": {
        "colab": {
          "base_uri": "https://localhost:8080/"
        },
        "id": "NLiV7_jPfxU6",
        "outputId": "4c9a3a61-88ad-45db-f260-504bb416543d"
      },
      "execution_count": 72,
      "outputs": [
        {
          "output_type": "execute_result",
          "data": {
            "text/plain": [
              "METHODS        32.966563\n",
              "RESULTS        32.188958\n",
              "CONCLUSIONS    15.089980\n",
              "BACKGROUND     12.067874\n",
              "OBJECTIVE       7.686625\n",
              "Name: target, dtype: float64"
            ]
          },
          "metadata": {},
          "execution_count": 72
        }
      ]
    },
    {
      "cell_type": "code",
      "source": [
        "# check the distribution of our abstract lengths\n",
        "train_df.total_lines.hist(figsize=(12, 7))\n",
        "plt.xlabel(\"Abstract length\")\n",
        "plt.ylabel(\"Frequency\")\n",
        "plt.title(\"Distribution of abstract lengths\")\n",
        "plt.show()"
      ],
      "metadata": {
        "colab": {
          "base_uri": "https://localhost:8080/",
          "height": 458
        },
        "id": "F0uQM6e8gAO9",
        "outputId": "81bda937-95f9-44a0-9591-c42d3d86c2e3"
      },
      "execution_count": 73,
      "outputs": [
        {
          "output_type": "display_data",
          "data": {
            "text/plain": [
              "<Figure size 864x504 with 1 Axes>"
            ],
            "image/png": "[encoded data removed]"
          },
          "metadata": {
            "needs_background": "light"
          }
        }
      ]
    },
    {
      "cell_type": "code",
      "source": [
        "# CHECK THE distribution of words per sentence\n",
        "train_df[\"total_words_per_line\"].hist(figsize=(12, 7));\n",
        "plt.xlabel(\"total words per sentence\")\n",
        "plt.ylabel(\"words frequency\")\n",
        "plt.title(\"Words distribution per sentence\")\n",
        "plt.show()"
      ],
      "metadata": {
        "colab": {
          "base_uri": "https://localhost:8080/",
          "height": 458
        },
        "id": "5pAMyU1ubI3X",
        "outputId": "c39b8aec-587c-4b42-ec34-3d2b47155f66"
      },
      "execution_count": 78,
      "outputs": [
        {
          "output_type": "display_data",
          "data": {
            "text/plain": [
              "<Figure size 864x504 with 1 Axes>"
            ],
            "image/png": "[encoded data removed]"
          },
          "metadata": {
            "needs_background": "light"
          }
        }
      ]
    },
    {
      "cell_type": "code",
      "source": [
        "I # Get the list of sentences\n",
        "train_sentences = train_df[\"text\"].tolist()\n",
        "validation_sentences = validation_df[\"text\"].tolist()\n",
        "test_sentences = test_df[\"text\"].tolist()"
      ],
      "metadata": {
        "id": "xlcSb5nUg000"
      },
      "execution_count": 40,
      "outputs": []
    },
    {
      "cell_type": "code",
      "source": [
        "len(train_sentences), len(validation_sentences), len(test_sentences)"
      ],
      "metadata": {
        "colab": {
          "base_uri": "https://localhost:8080/"
        },
        "id": "1adYqu4rij9W",
        "outputId": "3a65ea86-7e2a-4418-e69b-e1c60bf071fb"
      },
      "execution_count": 41,
      "outputs": [
        {
          "output_type": "execute_result",
          "data": {
            "text/plain": [
              "(180040, 30212, 30135)"
            ]
          },
          "metadata": {},
          "execution_count": 41
        }
      ]
    },
    {
      "cell_type": "markdown",
      "source": [
        "### Convert the labels into numerical value"
      ],
      "metadata": {
        "id": "RgqCE565jo1O"
      }
    },
    {
      "cell_type": "code",
      "source": [
        "from sklearn.preprocessing import OneHotEncoder\n",
        "enc = OneHotEncoder(handle_unknown='error')\n",
        "train_labels_one_hot = enc.fit_transform(np.array(train_df.target).reshape(-1, 1))\n",
        "validation_labels_one_hot = enc.transform(np.array(validation_df.target).reshape(-1, 1))\n",
        "test_labels_one_hot = enc.transform(np.array(test_df.target).reshape(-1, 1))"
      ],
      "metadata": {
        "id": "SKI0n0Ywjs-W"
      },
      "execution_count": 42,
      "outputs": []
    },
    {
      "cell_type": "code",
      "source": [
        "train_labels_one_hot"
      ],
      "metadata": {
        "colab": {
          "base_uri": "https://localhost:8080/"
        },
        "id": "boBVamUJkwnA",
        "outputId": "318e7a3c-3a25-45fa-f408-79f4b1f60e83"
      },
      "execution_count": 43,
      "outputs": [
        {
          "output_type": "execute_result",
          "data": {
            "text/plain": [
              "<180040x5 sparse matrix of type '<class 'numpy.float64'>'\n",
              "\twith 180040 stored elements in Compressed Sparse Row format>"
            ]
          },
          "metadata": {},
          "execution_count": 43
        }
      ]
    },
    {
      "cell_type": "code",
      "source": [
        "from sklearn.preprocessing import OneHotEncoder\n",
        "enc = OneHotEncoder(sparse=False, handle_unknown='error')\n",
        "train_labels_one_hot = enc.fit_transform(np.array(train_df.target).reshape(-1, 1))\n",
        "validation_labels_one_hot = enc.transform(np.array(validation_df.target).reshape(-1, 1))\n",
        "test_labels_one_hot = enc.transform(np.array(test_df.target).reshape(-1, 1))"
      ],
      "metadata": {
        "id": "W9oaNc3Almcn"
      },
      "execution_count": 44,
      "outputs": []
    },
    {
      "cell_type": "code",
      "source": [
        "train_labels_one_hot"
      ],
      "metadata": {
        "colab": {
          "base_uri": "https://localhost:8080/"
        },
        "id": "cvn0IYi_l3eN",
        "outputId": "71f1e9c2-5c08-4567-c060-d5c29f73d995"
      },
      "execution_count": 45,
      "outputs": [
        {
          "output_type": "execute_result",
          "data": {
            "text/plain": [
              "array([[0., 0., 0., 1., 0.],\n",
              "       [0., 0., 1., 0., 0.],\n",
              "       [0., 0., 1., 0., 0.],\n",
              "       ...,\n",
              "       [0., 0., 0., 0., 1.],\n",
              "       [0., 1., 0., 0., 0.],\n",
              "       [0., 1., 0., 0., 0.]])"
            ]
          },
          "metadata": {},
          "execution_count": 45
        }
      ]
    },
    {
      "cell_type": "code",
      "source": [
        "from sklearn.preprocessing import LabelEncoder\n",
        "le = LabelEncoder()\n",
        "train_tgt_labeled = le.fit_transform(train_df.target.to_numpy())\n",
        "validation_tgt_labeled = le.transform(validation_df.target.to_numpy())\n",
        "test_tgt_labeled = le.transform(test_df.target.to_numpy())"
      ],
      "metadata": {
        "id": "DzbAS_vWl5wY"
      },
      "execution_count": 46,
      "outputs": []
    },
    {
      "cell_type": "code",
      "source": [
        "#check the length of the encoded data\n",
        "len(train_tgt_labeled), len(validation_tgt_labeled), len(test_tgt_labeled)"
      ],
      "metadata": {
        "colab": {
          "base_uri": "https://localhost:8080/"
        },
        "id": "hRURrWpC7xoP",
        "outputId": "864d52ff-3788-42e2-8219-e6f28392c7b7"
      },
      "execution_count": 47,
      "outputs": [
        {
          "output_type": "execute_result",
          "data": {
            "text/plain": [
              "(180040, 30212, 30135)"
            ]
          },
          "metadata": {},
          "execution_count": 47
        }
      ]
    },
    {
      "cell_type": "code",
      "source": [
        "le.classes_"
      ],
      "metadata": {
        "colab": {
          "base_uri": "https://localhost:8080/"
        },
        "id": "zKneP0kI8efT",
        "outputId": "8d940b36-c5a9-4b5d-a2e3-e781944fa78d"
      },
      "execution_count": 48,
      "outputs": [
        {
          "output_type": "execute_result",
          "data": {
            "text/plain": [
              "array(['BACKGROUND', 'CONCLUSIONS', 'METHODS', 'OBJECTIVE', 'RESULTS'],\n",
              "      dtype=object)"
            ]
          },
          "metadata": {},
          "execution_count": 48
        }
      ]
    },
    {
      "cell_type": "code",
      "source": [],
      "metadata": {
        "id": "G-n9IqKk9FEz"
      },
      "execution_count": 48,
      "outputs": []
    }
  ]
}